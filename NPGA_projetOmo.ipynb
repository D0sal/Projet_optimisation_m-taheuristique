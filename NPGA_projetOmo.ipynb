{
  "nbformat": 4,
  "nbformat_minor": 0,
  "metadata": {
    "colab": {
      "provenance": []
    },
    "kernelspec": {
      "name": "python3",
      "display_name": "Python 3"
    },
    "language_info": {
      "name": "python"
    }
  },
  "cells": [
    {
      "cell_type": "code",
      "source": [
        "sharing_factor = 20"
      ],
      "metadata": {
        "id": "F4ix0KqsIOEI"
      },
      "execution_count": 168,
      "outputs": []
    },
    {
      "cell_type": "code",
      "source": [
        "import math\n",
        "import numpy\n",
        "import random"
      ],
      "metadata": {
        "id": "azUzYjH_IOBg"
      },
      "execution_count": 34,
      "outputs": []
    },
    {
      "cell_type": "code",
      "source": [
        "def fitness(indiv) -> tuple:\n",
        "  return indiv"
      ],
      "metadata": {
        "id": "NikM-CnwIN-w"
      },
      "execution_count": 172,
      "outputs": []
    },
    {
      "cell_type": "code",
      "source": [
        "# Cette cellule  permet de faire un combat entre deux individus sur un population donné et de soit renvoyer le gagnant (True,_) soit déclarer un match nul (False,0)\n",
        "\n",
        "\n",
        "# Fonction qui permet de savoir si un individu en domine un autre\n",
        "\n",
        "# Prend en entrée la fitness des deux individus\n",
        "# Renvoie en sortie False si l'individu 2 domine l'individu 1. Renvoie True sinon\n",
        "\n",
        "def dominance_check(fit1,fit2) -> bool:\n",
        "  if (fit1[0] >= fit2[0] and fit1[1] > fit2[1]) or (fit1[0] > fit2[0] and fit1[1] >= fit2[1]):\n",
        "    return False\n",
        "  else:\n",
        "    return True\n",
        "\n",
        "\n",
        "# Fonction qui effectue les matchs\n",
        "\n",
        "# Prend en entrée les deux individus et la sous population sur laquelle ils vont se battre\n",
        "# Renvoie (False,0) si les individus sont dominés ou domine toute la sous population\n",
        "# Renvoie (True,_) si un individu est gagnant, \"_\" étant cet individu\n",
        "\n",
        "def match_tournois(indiv1,indiv2,population_fit) -> tuple :\n",
        "  fit1 = fitness(indiv1)\n",
        "  fit2 = fitness(indiv2)\n",
        "\n",
        "  res_indiv1 = True\n",
        "  res_indiv2 = True\n",
        "  i = 0\n",
        "  \n",
        "  while (res_indiv1 or res_indiv2) and i < len(population_fit) :\n",
        "    if res_indiv1:\n",
        "      res_indiv1 = dominance_check(fit1,population_fit[i])\n",
        "    \n",
        "    if res_indiv2:\n",
        "      res_indiv2 = dominance_check(fit2,population_fit[i])\n",
        "\n",
        "    i += 1 \n",
        "\n",
        "  if not (res_indiv1 ^ res_indiv2):\n",
        "    return (False,0)\n",
        "  \n",
        "  if res_indiv1:\n",
        "    return (True, indiv1)\n",
        "\n",
        "  else:\n",
        "    return (True, indiv2)"
      ],
      "metadata": {
        "id": "XkvV0ZKIQXfy"
      },
      "execution_count": 187,
      "outputs": []
    },
    {
      "cell_type": "code",
      "source": [
        "'''\n",
        "indiv1 = (1,2)\n",
        "indiv2 = (0,1)\n",
        "population = [\n",
        "    (1,3),\n",
        "    (4,2),\n",
        "    (1,2),\n",
        "    (3,3),\n",
        "    (1,5),\n",
        "    (0,1)\n",
        "]\n",
        "\n",
        "\n",
        "res = match_tournois(indiv1,indiv2, population)\n",
        "\n",
        "print(res)\n",
        "\n",
        "# res doit etre égale à (True, (0, 1))\n",
        "'''"
      ],
      "metadata": {
        "colab": {
          "base_uri": "https://localhost:8080/",
          "height": 53
        },
        "id": "ZeH7dG2LZkGO",
        "outputId": "eb4e4539-7218-4efd-bec9-2697fd3ea9fb"
      },
      "execution_count": 134,
      "outputs": [
        {
          "output_type": "execute_result",
          "data": {
            "text/plain": [
              "'\\nindiv1 = (1,2)\\nindiv2 = (0,1)\\npopulation = [\\n    (1,3),\\n    (4,2),\\n    (1,2),\\n    (3,3),\\n    (1,5),\\n    (0,1)\\n]\\n\\n\\nres = match_tournois(indiv1,indiv2, population)\\n\\nprint(res)\\n\\n# res doit etre égale à (True, (0, 1))\\n'"
            ],
            "application/vnd.google.colaboratory.intrinsic+json": {
              "type": "string"
            }
          },
          "metadata": {},
          "execution_count": 134
        }
      ]
    },
    {
      "cell_type": "code",
      "execution_count": 176,
      "metadata": {
        "id": "QUe5QkYvF9GC"
      },
      "outputs": [],
      "source": [
        "# Fonction qui permet de calculer la \"shared fitness\" d'un individu par rapport à une population\n",
        "\n",
        "\n",
        "# Fonction à vectoriser pour calculer le niche count d'un individu\n",
        "\n",
        "def sharing_function(indiv1, indiv2):\n",
        "  distance = math.sqrt((indiv1[0]-indiv2[0])*(indiv1[0]-indiv2[0])+(indiv1[1]-indiv2[1])*(indiv1[1]-indiv2[1]))\n",
        "  sh = 1 - (distance/sharing_factor)\n",
        "  if sh < 0:\n",
        "    sh = 0\n",
        "  return sh\n",
        "\n",
        "\n",
        "# Prend en entrée la fitness d'un individu et la fitness de la population\n",
        "# Renvoie en sortie la \"shared fitness\" de l'individu\n",
        "\n",
        "def sharing_procedure(indiv, population_fit) -> float:\n",
        "  \n",
        "  fit = indiv\n",
        "\n",
        "  vectorized_sharing = numpy.vectorize(sharing_function, signature ='(n),(m)->()')\n",
        "  \n",
        "  niche_count = sum(vectorized_sharing(fit,population_fit))\n",
        "  return numpy.mean(fit)/niche_count"
      ]
    },
    {
      "cell_type": "code",
      "source": [
        "'''\n",
        "individual = (1,2)\n",
        "population = [\n",
        "    (1,3),\n",
        "    (4,2)\n",
        "]\n",
        "\n",
        "\n",
        "res = sharing_procedure(individual, population)\n",
        "\n",
        "print(res)\n",
        "\n",
        "# Res doit etre égale à 1.2499999999999998\n",
        "'''"
      ],
      "metadata": {
        "colab": {
          "base_uri": "https://localhost:8080/",
          "height": 35
        },
        "id": "AqPFeT0AMoHd",
        "outputId": "6fd31087-0ddf-4d01-8fd1-0acfc4dec448"
      },
      "execution_count": 165,
      "outputs": [
        {
          "output_type": "execute_result",
          "data": {
            "text/plain": [
              "'\\nindividual = (1,2)\\npopulation = [\\n    (1,3),\\n    (4,2)\\n]\\n\\n\\nres = sharing_procedure(individual, population)\\n\\nprint(res)\\n\\n# Res doit etre égale à 1.2499999999999998\\n'"
            ],
            "application/vnd.google.colaboratory.intrinsic+json": {
              "type": "string"
            }
          },
          "metadata": {},
          "execution_count": 165
        }
      ]
    },
    {
      "cell_type": "code",
      "source": [
        "def tournois(population,winner_length)->list:\n",
        "  winners = []\n",
        "  while len(winners) < winner_length:\n",
        "    indiv1 = random.choice(population)\n",
        "    indiv2 = random.choice(population)\n",
        "\n",
        "    while indiv1 == indiv2 :\n",
        "      indiv2 = random.choice(population)\n",
        "\n",
        "    #vectorized_fit = numpy.vectorize(fitness,signature= '(m)->(l)')\n",
        "    population = list(map(fitness, population))\n",
        "    sub_pop_len = random.randint(1,len(population))\n",
        "    sub_pop = random.choices(population,k=sub_pop_len)\n",
        "\n",
        "\n",
        "    (res,winner) = match_tournois(indiv1,indiv2,sub_pop)\n",
        "    if res:\n",
        "      winners.append((winner,0))\n",
        "    else:\n",
        "      sf = sharing_procedure(indiv1,population)\n",
        "      winners.append((indiv1,sf))\n",
        "\n",
        "      sf = sharing_procedure(indiv2,population)\n",
        "      winners.append((indiv2,sf))\n",
        "\n",
        "  return winners"
      ],
      "metadata": {
        "id": "auvnuTRNNsh9"
      },
      "execution_count": 189,
      "outputs": []
    },
    {
      "cell_type": "code",
      "source": [
        "population = [\n",
        "    (1,3),\n",
        "    (4,2),\n",
        "    (1,2),\n",
        "    (3,3),\n",
        "    (1,5),\n",
        "    (0,1)\n",
        "]\n",
        "\n",
        "res = tournois(population,3)\n",
        "\n",
        "print(res)"
      ],
      "metadata": {
        "colab": {
          "base_uri": "https://localhost:8080/"
        },
        "id": "n9gfAXGVh1nw",
        "outputId": "2813827e-a4a7-4244-a8e9-5742e453d79f"
      },
      "execution_count": 190,
      "outputs": [
        {
          "output_type": "stream",
          "name": "stdout",
          "text": [
            "[((1, 5), 0.5780022373201288), ((1, 3), 0.3649579947740944), ((4, 2), 0)]\n"
          ]
        }
      ]
    },
    {
      "cell_type": "code",
      "source": [],
      "metadata": {
        "id": "GoV6dOLRAVZB"
      },
      "execution_count": null,
      "outputs": []
    }
  ]
}